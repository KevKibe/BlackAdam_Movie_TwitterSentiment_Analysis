{
 "cells": [
  {
   "cell_type": "code",
   "execution_count": 157,
   "id": "f9eb9c89",
   "metadata": {},
   "outputs": [],
   "source": [
    "import configparser\n",
    "import tweepy\n",
    "import numpy as np\n",
    "import pandas as pd\n",
    "from wordcloud import WordCloud\n",
    "from emot.emo_unicode import UNICODE_EMOJI # For emojis\n",
    "import re\n",
    "from collections import Counter\n",
    "import matplotlib.pyplot as plt\n",
    "%matplotlib inline\n",
    "import seaborn as sns\n",
    "\n",
    "import nltk\n",
    "from nltk.corpus import stopwords       # to get stopwords from NLTK library\n",
    "from nltk.tokenize import word_tokenize # to create word tokens\n",
    "from nltk.stem import WordNetLemmatizer # to reduce words to orginal form\n",
    "from nltk.corpus import words           # Get all words in english \n",
    "\n",
    "import string\n",
    "import random\n",
    "from PIL import Image\n",
    "\n",
    "import textblob\n",
    "from textblob import TextBlob"
   ]
  },
  {
   "cell_type": "markdown",
   "id": "6d1496e1",
   "metadata": {},
   "source": [
    "# Scraping data from the API"
   ]
  },
  {
   "cell_type": "code",
   "execution_count": 189,
   "id": "7e0b3c50",
   "metadata": {},
   "outputs": [],
   "source": [
    "tweepy.Client(\"\")\n",
    "auth = tweepy.OAuth2AppHandler(\"\", \"\")\n",
    "api = tweepy.API(auth)"
   ]
  },
  {
   "cell_type": "code",
   "execution_count": 192,
   "id": "91e4268f",
   "metadata": {},
   "outputs": [
    {
     "data": {
      "text/html": [
       "<div>\n",
       "<style scoped>\n",
       "    .dataframe tbody tr th:only-of-type {\n",
       "        vertical-align: middle;\n",
       "    }\n",
       "\n",
       "    .dataframe tbody tr th {\n",
       "        vertical-align: top;\n",
       "    }\n",
       "\n",
       "    .dataframe thead th {\n",
       "        text-align: right;\n",
       "    }\n",
       "</style>\n",
       "<table border=\"1\" class=\"dataframe\">\n",
       "  <thead>\n",
       "    <tr style=\"text-align: right;\">\n",
       "      <th></th>\n",
       "      <th>author_id</th>\n",
       "      <th>tweet</th>\n",
       "      <th>time_of_tweet</th>\n",
       "      <th>public_metrics</th>\n",
       "      <th>geo_id</th>\n",
       "    </tr>\n",
       "  </thead>\n",
       "  <tbody>\n",
       "    <tr>\n",
       "      <th>1595</th>\n",
       "      <td>1364980667814006787</td>\n",
       "      <td>\"Look. I'm here to help... but it has to be on...</td>\n",
       "      <td>2022-10-25 06:48:22+00:00</td>\n",
       "      <td>{'retweet_count': 18, 'reply_count': 0, 'like_...</td>\n",
       "      <td>None</td>\n",
       "    </tr>\n",
       "    <tr>\n",
       "      <th>1596</th>\n",
       "      <td>1345030359575113730</td>\n",
       "      <td>My dad (59) looked at me and asked,“Who is Bla...</td>\n",
       "      <td>2022-10-25 06:48:03+00:00</td>\n",
       "      <td>{'retweet_count': 0, 'reply_count': 0, 'like_c...</td>\n",
       "      <td>None</td>\n",
       "    </tr>\n",
       "    <tr>\n",
       "      <th>1597</th>\n",
       "      <td>55840096</td>\n",
       "      <td>Black Adam is a awesome movie. \\n\\nDoctor fate...</td>\n",
       "      <td>2022-10-25 06:47:57+00:00</td>\n",
       "      <td>{'retweet_count': 0, 'reply_count': 0, 'like_c...</td>\n",
       "      <td>None</td>\n",
       "    </tr>\n",
       "    <tr>\n",
       "      <th>1598</th>\n",
       "      <td>624986050</td>\n",
       "      <td>I didn’t come for story, I came for the #Dolby...</td>\n",
       "      <td>2022-10-25 06:47:53+00:00</td>\n",
       "      <td>{'retweet_count': 2, 'reply_count': 0, 'like_c...</td>\n",
       "      <td>None</td>\n",
       "    </tr>\n",
       "    <tr>\n",
       "      <th>1599</th>\n",
       "      <td>999105496509435905</td>\n",
       "      <td>The sketch from today’s livestream. Not finish...</td>\n",
       "      <td>2022-10-25 06:47:04+00:00</td>\n",
       "      <td>{'retweet_count': 2, 'reply_count': 0, 'like_c...</td>\n",
       "      <td>None</td>\n",
       "    </tr>\n",
       "  </tbody>\n",
       "</table>\n",
       "</div>"
      ],
      "text/plain": [
       "                author_id                                              tweet  \\\n",
       "1595  1364980667814006787  \"Look. I'm here to help... but it has to be on...   \n",
       "1596  1345030359575113730  My dad (59) looked at me and asked,“Who is Bla...   \n",
       "1597             55840096  Black Adam is a awesome movie. \\n\\nDoctor fate...   \n",
       "1598            624986050  I didn’t come for story, I came for the #Dolby...   \n",
       "1599   999105496509435905  The sketch from today’s livestream. Not finish...   \n",
       "\n",
       "                 time_of_tweet  \\\n",
       "1595 2022-10-25 06:48:22+00:00   \n",
       "1596 2022-10-25 06:48:03+00:00   \n",
       "1597 2022-10-25 06:47:57+00:00   \n",
       "1598 2022-10-25 06:47:53+00:00   \n",
       "1599 2022-10-25 06:47:04+00:00   \n",
       "\n",
       "                                         public_metrics geo_id  \n",
       "1595  {'retweet_count': 18, 'reply_count': 0, 'like_...   None  \n",
       "1596  {'retweet_count': 0, 'reply_count': 0, 'like_c...   None  \n",
       "1597  {'retweet_count': 0, 'reply_count': 0, 'like_c...   None  \n",
       "1598  {'retweet_count': 2, 'reply_count': 0, 'like_c...   None  \n",
       "1599  {'retweet_count': 2, 'reply_count': 0, 'like_c...   None  "
      ]
     },
     "execution_count": 192,
     "metadata": {},
     "output_type": "execute_result"
    }
   ],
   "source": [
    "query = ' (BlackAdam OR blackadam OR BLACK ADAM OR black adam)  -is:retweet -is:reply lang:en'\n",
    "\n",
    "columns=[ 'author_id','tweet','time_of_tweet' ,\"public_metrics\",'geo_id']\n",
    "start_date='2022-10-22 00:00:00+00:00'\n",
    "end_date='2022-10-22 00:00:00+00:00'\n",
    "\n",
    "for tweet in tweepy.Paginator(client.search_recent_tweets,query=query,tweet_fields=['author_id','context_annotations', 'created_at',\"public_metrics\",'geo'], max_results=100).flatten(limit=1000):\n",
    "    data.append([tweet.author_id, tweet.text, tweet.created_at,tweet.public_metrics,tweet.geo])\n",
    "df = pd.DataFrame(data, columns=columns)\n",
    "df.tail()        \n"
   ]
  },
  {
   "cell_type": "code",
   "execution_count": 193,
   "id": "75d23d2c",
   "metadata": {},
   "outputs": [],
   "source": [
    "title = \"BlackAdam\"\n",
    "df.to_csv('blackadam1.csv')"
   ]
  },
  {
   "cell_type": "markdown",
   "id": "24d6dcc3",
   "metadata": {},
   "source": [
    "## Assessing the data"
   ]
  },
  {
   "cell_type": "code",
   "execution_count": 198,
   "id": "08b7922f",
   "metadata": {},
   "outputs": [
    {
     "data": {
      "text/plain": [
       "0"
      ]
     },
     "execution_count": 198,
     "metadata": {},
     "output_type": "execute_result"
    }
   ],
   "source": [
    "blackadam_df=pd.read_csv('blackadam1.csv')\n",
    "#checking for duplicate entries\n",
    "blackadam_df.duplicated().sum()"
   ]
  },
  {
   "cell_type": "code",
   "execution_count": 200,
   "id": "354f5298",
   "metadata": {},
   "outputs": [
    {
     "data": {
      "text/plain": [
       "Unnamed: 0           0\n",
       "author_id            0\n",
       "tweet                0\n",
       "time_of_tweet        0\n",
       "public_metrics       0\n",
       "geo_id            1545\n",
       "dtype: int64"
      ]
     },
     "execution_count": 200,
     "metadata": {},
     "output_type": "execute_result"
    }
   ],
   "source": [
    "#checking for null values\n",
    "blackadam_df.isnull().sum()"
   ]
  },
  {
   "cell_type": "code",
   "execution_count": 205,
   "id": "9aafd84c",
   "metadata": {},
   "outputs": [
    {
     "data": {
      "text/plain": [
       "author_id          int64\n",
       "tweet             object\n",
       "time_of_tweet     object\n",
       "public_metrics    object\n",
       "dtype: object"
      ]
     },
     "execution_count": 205,
     "metadata": {},
     "output_type": "execute_result"
    }
   ],
   "source": [
    "#checking the data types of the columns\n",
    "blackadam_df.dtypes"
   ]
  },
  {
   "cell_type": "code",
   "execution_count": 202,
   "id": "24376d18",
   "metadata": {},
   "outputs": [],
   "source": [
    "#dropping unwanted columns\n",
    "blackadam_df.drop(\"Unnamed: 0\", axis=1, inplace=True)\n",
    "blackadam_df.drop(\"geo_id\", axis=1, inplace=True)"
   ]
  },
  {
   "cell_type": "code",
   "execution_count": 203,
   "id": "f6d5882b",
   "metadata": {},
   "outputs": [
    {
     "data": {
      "text/html": [
       "<div>\n",
       "<style scoped>\n",
       "    .dataframe tbody tr th:only-of-type {\n",
       "        vertical-align: middle;\n",
       "    }\n",
       "\n",
       "    .dataframe tbody tr th {\n",
       "        vertical-align: top;\n",
       "    }\n",
       "\n",
       "    .dataframe thead th {\n",
       "        text-align: right;\n",
       "    }\n",
       "</style>\n",
       "<table border=\"1\" class=\"dataframe\">\n",
       "  <thead>\n",
       "    <tr style=\"text-align: right;\">\n",
       "      <th></th>\n",
       "      <th>author_id</th>\n",
       "      <th>tweet</th>\n",
       "      <th>time_of_tweet</th>\n",
       "      <th>public_metrics</th>\n",
       "    </tr>\n",
       "  </thead>\n",
       "  <tbody>\n",
       "    <tr>\n",
       "      <th>0</th>\n",
       "      <td>1409374907834699781</td>\n",
       "      <td>#BlackAdam v. #Superman: Dawn of Justice (Agai...</td>\n",
       "      <td>2022-10-23 23:59:59+00:00</td>\n",
       "      <td>{'retweet_count': 0, 'reply_count': 2, 'like_c...</td>\n",
       "    </tr>\n",
       "    <tr>\n",
       "      <th>1</th>\n",
       "      <td>1238671668945575936</td>\n",
       "      <td>Just saw Black Adam today and the long wait wa...</td>\n",
       "      <td>2022-10-23 23:59:56+00:00</td>\n",
       "      <td>{'retweet_count': 0, 'reply_count': 0, 'like_c...</td>\n",
       "    </tr>\n",
       "    <tr>\n",
       "      <th>2</th>\n",
       "      <td>1576943214568914946</td>\n",
       "      <td>Black Adam opens at the top of the weekend box...</td>\n",
       "      <td>2022-10-23 23:59:55+00:00</td>\n",
       "      <td>{'retweet_count': 0, 'reply_count': 0, 'like_c...</td>\n",
       "    </tr>\n",
       "    <tr>\n",
       "      <th>3</th>\n",
       "      <td>1001932871559516160</td>\n",
       "      <td>Bitch said what movie she should see I said bl...</td>\n",
       "      <td>2022-10-23 23:59:50+00:00</td>\n",
       "      <td>{'retweet_count': 0, 'reply_count': 0, 'like_c...</td>\n",
       "    </tr>\n",
       "    <tr>\n",
       "      <th>4</th>\n",
       "      <td>1445981969318301698</td>\n",
       "      <td>Black Adam was boring</td>\n",
       "      <td>2022-10-23 23:59:49+00:00</td>\n",
       "      <td>{'retweet_count': 0, 'reply_count': 0, 'like_c...</td>\n",
       "    </tr>\n",
       "  </tbody>\n",
       "</table>\n",
       "</div>"
      ],
      "text/plain": [
       "             author_id                                              tweet  \\\n",
       "0  1409374907834699781  #BlackAdam v. #Superman: Dawn of Justice (Agai...   \n",
       "1  1238671668945575936  Just saw Black Adam today and the long wait wa...   \n",
       "2  1576943214568914946  Black Adam opens at the top of the weekend box...   \n",
       "3  1001932871559516160  Bitch said what movie she should see I said bl...   \n",
       "4  1445981969318301698                              Black Adam was boring   \n",
       "\n",
       "               time_of_tweet  \\\n",
       "0  2022-10-23 23:59:59+00:00   \n",
       "1  2022-10-23 23:59:56+00:00   \n",
       "2  2022-10-23 23:59:55+00:00   \n",
       "3  2022-10-23 23:59:50+00:00   \n",
       "4  2022-10-23 23:59:49+00:00   \n",
       "\n",
       "                                      public_metrics  \n",
       "0  {'retweet_count': 0, 'reply_count': 2, 'like_c...  \n",
       "1  {'retweet_count': 0, 'reply_count': 0, 'like_c...  \n",
       "2  {'retweet_count': 0, 'reply_count': 0, 'like_c...  \n",
       "3  {'retweet_count': 0, 'reply_count': 0, 'like_c...  \n",
       "4  {'retweet_count': 0, 'reply_count': 0, 'like_c...  "
      ]
     },
     "execution_count": 203,
     "metadata": {},
     "output_type": "execute_result"
    }
   ],
   "source": [
    "blackadam_df.reset_index(drop=True)\n",
    "blackadam_df.head()"
   ]
  },
  {
   "cell_type": "code",
   "execution_count": 206,
   "id": "ccdd0948",
   "metadata": {},
   "outputs": [],
   "source": [
    "#saving the cleaned dataframe to csv file\n",
    "blackadam_df.to_csv(\"clean_blackadam.csv\")"
   ]
  },
  {
   "cell_type": "markdown",
   "id": "e0b33ee8",
   "metadata": {},
   "source": [
    "# Data Processing"
   ]
  },
  {
   "cell_type": "code",
   "execution_count": 207,
   "id": "f045afc9",
   "metadata": {},
   "outputs": [],
   "source": [
    "#function to remove hashtag\n",
    "def Hashtag(tweet):\n",
    "    tweet = tweet.lower()  #converts tweet to lower case\n",
    "    tweet = re.findall(r'\\#\\w+',tweet)  \n",
    "    return \" \".join(tweet)"
   ]
  },
  {
   "cell_type": "code",
   "execution_count": 208,
   "id": "3a325079",
   "metadata": {},
   "outputs": [
    {
     "data": {
      "text/html": [
       "<div>\n",
       "<style scoped>\n",
       "    .dataframe tbody tr th:only-of-type {\n",
       "        vertical-align: middle;\n",
       "    }\n",
       "\n",
       "    .dataframe tbody tr th {\n",
       "        vertical-align: top;\n",
       "    }\n",
       "\n",
       "    .dataframe thead th {\n",
       "        text-align: right;\n",
       "    }\n",
       "</style>\n",
       "<table border=\"1\" class=\"dataframe\">\n",
       "  <thead>\n",
       "    <tr style=\"text-align: right;\">\n",
       "      <th></th>\n",
       "      <th>author_id</th>\n",
       "      <th>tweet</th>\n",
       "      <th>time_of_tweet</th>\n",
       "      <th>public_metrics</th>\n",
       "      <th>hashtags</th>\n",
       "    </tr>\n",
       "  </thead>\n",
       "  <tbody>\n",
       "    <tr>\n",
       "      <th>282</th>\n",
       "      <td>283604227</td>\n",
       "      <td>Andy Vermaut shares:Dwayne Johnson celebrates ...</td>\n",
       "      <td>2022-10-25 11:33:36+00:00</td>\n",
       "      <td>{'retweet_count': 0, 'reply_count': 0, 'like_c...</td>\n",
       "      <td></td>\n",
       "    </tr>\n",
       "    <tr>\n",
       "      <th>747</th>\n",
       "      <td>347810392</td>\n",
       "      <td>On this episode of The Hollywood Outsider podc...</td>\n",
       "      <td>2022-10-25 11:44:11+00:00</td>\n",
       "      <td>{'retweet_count': 0, 'reply_count': 0, 'like_c...</td>\n",
       "      <td>#blackadam #theflash</td>\n",
       "    </tr>\n",
       "    <tr>\n",
       "      <th>1502</th>\n",
       "      <td>1516621974969417729</td>\n",
       "      <td>Experts say lightning can create heat close to...</td>\n",
       "      <td>2022-10-25 07:16:50+00:00</td>\n",
       "      <td>{'retweet_count': 0, 'reply_count': 0, 'like_c...</td>\n",
       "      <td>#blackadam</td>\n",
       "    </tr>\n",
       "    <tr>\n",
       "      <th>1371</th>\n",
       "      <td>1243543566737182729</td>\n",
       "      <td>Black adam is good, go watch it.</td>\n",
       "      <td>2022-10-25 07:49:36+00:00</td>\n",
       "      <td>{'retweet_count': 0, 'reply_count': 0, 'like_c...</td>\n",
       "      <td></td>\n",
       "    </tr>\n",
       "    <tr>\n",
       "      <th>1267</th>\n",
       "      <td>1285668237364142087</td>\n",
       "      <td>I'm thinking of catching another showing of #B...</td>\n",
       "      <td>2022-10-25 08:32:12+00:00</td>\n",
       "      <td>{'retweet_count': 1, 'reply_count': 0, 'like_c...</td>\n",
       "      <td>#blackadam</td>\n",
       "    </tr>\n",
       "  </tbody>\n",
       "</table>\n",
       "</div>"
      ],
      "text/plain": [
       "                author_id                                              tweet  \\\n",
       "282             283604227  Andy Vermaut shares:Dwayne Johnson celebrates ...   \n",
       "747             347810392  On this episode of The Hollywood Outsider podc...   \n",
       "1502  1516621974969417729  Experts say lightning can create heat close to...   \n",
       "1371  1243543566737182729                   Black adam is good, go watch it.   \n",
       "1267  1285668237364142087  I'm thinking of catching another showing of #B...   \n",
       "\n",
       "                  time_of_tweet  \\\n",
       "282   2022-10-25 11:33:36+00:00   \n",
       "747   2022-10-25 11:44:11+00:00   \n",
       "1502  2022-10-25 07:16:50+00:00   \n",
       "1371  2022-10-25 07:49:36+00:00   \n",
       "1267  2022-10-25 08:32:12+00:00   \n",
       "\n",
       "                                         public_metrics              hashtags  \n",
       "282   {'retweet_count': 0, 'reply_count': 0, 'like_c...                        \n",
       "747   {'retweet_count': 0, 'reply_count': 0, 'like_c...  #blackadam #theflash  \n",
       "1502  {'retweet_count': 0, 'reply_count': 0, 'like_c...            #blackadam  \n",
       "1371  {'retweet_count': 0, 'reply_count': 0, 'like_c...                        \n",
       "1267  {'retweet_count': 1, 'reply_count': 0, 'like_c...            #blackadam  "
      ]
     },
     "execution_count": 208,
     "metadata": {},
     "output_type": "execute_result"
    }
   ],
   "source": [
    "blackadam_df['hashtags'] = blackadam_df['tweet'].apply(Hashtag)\n",
    "blackadam_df.sample(5)"
   ]
  },
  {
   "cell_type": "code",
   "execution_count": 210,
   "id": "6215d966",
   "metadata": {},
   "outputs": [],
   "source": [
    "#converting the hashtag column to a list in other to get the value counts\n",
    "hashtag_list = blackadam_df[\"hashtags\"].to_list()\n",
    "\n",
    "new_hashtags = []\n",
    "for hash in hashtag_list:\n",
    "    new_hash = hash.split()\n",
    "    for new in new_hash:\n",
    "        new_hashtags.append(new)\n",
    "        new_hashtags\n"
   ]
  },
  {
   "cell_type": "code",
   "execution_count": 211,
   "id": "ef3a2310",
   "metadata": {},
   "outputs": [
    {
     "data": {
      "text/html": [
       "<div>\n",
       "<style scoped>\n",
       "    .dataframe tbody tr th:only-of-type {\n",
       "        vertical-align: middle;\n",
       "    }\n",
       "\n",
       "    .dataframe tbody tr th {\n",
       "        vertical-align: top;\n",
       "    }\n",
       "\n",
       "    .dataframe thead th {\n",
       "        text-align: right;\n",
       "    }\n",
       "</style>\n",
       "<table border=\"1\" class=\"dataframe\">\n",
       "  <thead>\n",
       "    <tr style=\"text-align: right;\">\n",
       "      <th></th>\n",
       "      <th>hashtag</th>\n",
       "      <th>counts</th>\n",
       "    </tr>\n",
       "  </thead>\n",
       "  <tbody>\n",
       "    <tr>\n",
       "      <th>0</th>\n",
       "      <td>#blackadam</td>\n",
       "      <td>562</td>\n",
       "    </tr>\n",
       "    <tr>\n",
       "      <th>22</th>\n",
       "      <td>#blackadammovie</td>\n",
       "      <td>71</td>\n",
       "    </tr>\n",
       "    <tr>\n",
       "      <th>37</th>\n",
       "      <td>#dccomics</td>\n",
       "      <td>65</td>\n",
       "    </tr>\n",
       "    <tr>\n",
       "      <th>1</th>\n",
       "      <td>#superman</td>\n",
       "      <td>56</td>\n",
       "    </tr>\n",
       "    <tr>\n",
       "      <th>83</th>\n",
       "      <td>#tuesdayvibe</td>\n",
       "      <td>40</td>\n",
       "    </tr>\n",
       "  </tbody>\n",
       "</table>\n",
       "</div>"
      ],
      "text/plain": [
       "            hashtag  counts\n",
       "0        #blackadam     562\n",
       "22  #blackadammovie      71\n",
       "37        #dccomics      65\n",
       "1         #superman      56\n",
       "83     #tuesdayvibe      40"
      ]
     },
     "execution_count": 211,
     "metadata": {},
     "output_type": "execute_result"
    }
   ],
   "source": [
    "counts = Counter(new_hashtags)\n",
    "hashtag_df = pd.DataFrame.from_dict(counts, orient=\"index\").reset_index()\n",
    "hashtag_df.columns = [\"hashtag\", \"counts\"]\n",
    "hashtag_df.sort_values(\"counts\", ascending=False, inplace=True)\n",
    "hashtag_df.head()"
   ]
  },
  {
   "cell_type": "code",
   "execution_count": 212,
   "id": "1e51bd5a",
   "metadata": {},
   "outputs": [],
   "source": [
    "hashtag_df.to_csv(\"blackadam_hashtags.csv\")"
   ]
  },
  {
   "cell_type": "code",
   "execution_count": 217,
   "id": "d4962d3d",
   "metadata": {},
   "outputs": [],
   "source": [
    "#defining processed content by removing words that do not contribute to any analysis.\n",
    "stop_words = list(stopwords.words('english'))\n",
    "user_stop_words = [\"i\", \"i'm\", \"me\", \"my\", \"myself\", \"we\", \"our\", \"ours\", \"ourselves\", \"you\", \"your\", \"yours\", \"yourself\", \n",
    "                   \"yourselves\", \"he\", \"him\", \"his\", \"himself\", \"she\", \"her\", \"hers\", \"herself\", \"it\", \"its\", \"itself\",\n",
    "                   \"they\", \"them\", \"their\", \"theirs\", \"themselves\", \"what\", \"which\", \"who\", \"whom\", \"this\", \"that\", \n",
    "                   \"these\", \"those\", \"am\", \"is\", \"are\", \"was\", \"were\", \"be\", \"been\", \"being\", \"have\", \"has\", \"had\", \n",
    "                   \"having\", \"do\", \"does\", \"did\", \"doing\", \"a\", \"an\", \"the\", \"and\", \"but\", \"i'll\",\"we'll\",\"they'll\",\n",
    "                   \"'s\",'anyone','today','yesterday','day','isnt', 'shouldnt', \"didn't\", 'wasnt', 'werent','mustnt', \n",
    "                   \"been…\",'aht', 've', 'next',\"all\", \"any\", \"both\", \"each\", 'by',\n",
    "                   \"year\"]\n",
    "\n",
    "words = [\"blackadam\", \"dc comics\",\"dccomics\",\"black adam\", \"superman\", \"henry cavil\", \"henrycavil\", \"super man\", \"the rock\", \"therock\",'dwayne johnson','dwaynejohnson']\n",
    "alphabets = list(string.ascii_lowercase)\n",
    "stop_words = stop_words + user_stop_words + alphabets + words\n",
    "emojis = list(UNICODE_EMOJI.keys())"
   ]
  },
  {
   "cell_type": "code",
   "execution_count": 218,
   "id": "bab7fa00",
   "metadata": {},
   "outputs": [],
   "source": [
    "def processing_tweets(tweet):\n",
    "    tweet = tweet.lower()\n",
    "    tweet = re.sub(r\"http\\S+|www\\S+|https\\S+\", '', tweet, flags = re.MULTILINE)   # Cleaning and removing URL’s\n",
    "    tweet = re.sub(r'\\@\\w+|\\#\\w+|\\d+', '',  tweet)                                # Cleaning and removing repeating characters\n",
    "    tweet_tokens = word_tokenize(tweet)  \n",
    "    filter_words = [w for w in tweet_tokens if w not in stop_words]\n",
    "    filter_words = [w for w in filter_words if w not in emojis]\n",
    "    unpunctuated_words = [w for w in filter_words if w not in string.punctuation] # Cleaning and removing punctuations\n",
    "    lemmatizer = WordNetLemmatizer() \n",
    "    lemmatized_words = [lemmatizer.lemmatize(w) for w in unpunctuated_words]\n",
    "    return \" \".join(lemmatized_words)"
   ]
  },
  {
   "cell_type": "code",
   "execution_count": 219,
   "id": "a500c854",
   "metadata": {},
   "outputs": [
    {
     "data": {
      "text/html": [
       "<div>\n",
       "<style scoped>\n",
       "    .dataframe tbody tr th:only-of-type {\n",
       "        vertical-align: middle;\n",
       "    }\n",
       "\n",
       "    .dataframe tbody tr th {\n",
       "        vertical-align: top;\n",
       "    }\n",
       "\n",
       "    .dataframe thead th {\n",
       "        text-align: right;\n",
       "    }\n",
       "</style>\n",
       "<table border=\"1\" class=\"dataframe\">\n",
       "  <thead>\n",
       "    <tr style=\"text-align: right;\">\n",
       "      <th></th>\n",
       "      <th>author_id</th>\n",
       "      <th>tweet</th>\n",
       "      <th>time_of_tweet</th>\n",
       "      <th>public_metrics</th>\n",
       "      <th>hashtags</th>\n",
       "      <th>cleaned_tweets</th>\n",
       "    </tr>\n",
       "  </thead>\n",
       "  <tbody>\n",
       "    <tr>\n",
       "      <th>0</th>\n",
       "      <td>1409374907834699781</td>\n",
       "      <td>#BlackAdam v. #Superman: Dawn of Justice (Agai...</td>\n",
       "      <td>2022-10-23 23:59:59+00:00</td>\n",
       "      <td>{'retweet_count': 0, 'reply_count': 2, 'like_c...</td>\n",
       "      <td>#blackadam #superman #andor #gothamknights #mo...</td>\n",
       "      <td>v. dawn justice curious ep curious existential...</td>\n",
       "    </tr>\n",
       "    <tr>\n",
       "      <th>1</th>\n",
       "      <td>1238671668945575936</td>\n",
       "      <td>Just saw Black Adam today and the long wait wa...</td>\n",
       "      <td>2022-10-23 23:59:56+00:00</td>\n",
       "      <td>{'retweet_count': 0, 'reply_count': 0, 'like_c...</td>\n",
       "      <td>#blackadam #dceu #therock</td>\n",
       "      <td>saw black adam long wait worth far one best fi...</td>\n",
       "    </tr>\n",
       "    <tr>\n",
       "      <th>2</th>\n",
       "      <td>1576943214568914946</td>\n",
       "      <td>Black Adam opens at the top of the weekend box...</td>\n",
       "      <td>2022-10-23 23:59:55+00:00</td>\n",
       "      <td>{'retweet_count': 0, 'reply_count': 0, 'like_c...</td>\n",
       "      <td></td>\n",
       "      <td>black adam open top weekend box office</td>\n",
       "    </tr>\n",
       "    <tr>\n",
       "      <th>3</th>\n",
       "      <td>1001932871559516160</td>\n",
       "      <td>Bitch said what movie she should see I said bl...</td>\n",
       "      <td>2022-10-23 23:59:50+00:00</td>\n",
       "      <td>{'retweet_count': 0, 'reply_count': 0, 'like_c...</td>\n",
       "      <td></td>\n",
       "      <td>bitch said movie see said black adam said neve...</td>\n",
       "    </tr>\n",
       "    <tr>\n",
       "      <th>4</th>\n",
       "      <td>1445981969318301698</td>\n",
       "      <td>Black Adam was boring</td>\n",
       "      <td>2022-10-23 23:59:49+00:00</td>\n",
       "      <td>{'retweet_count': 0, 'reply_count': 0, 'like_c...</td>\n",
       "      <td></td>\n",
       "      <td>black adam boring</td>\n",
       "    </tr>\n",
       "  </tbody>\n",
       "</table>\n",
       "</div>"
      ],
      "text/plain": [
       "             author_id                                              tweet  \\\n",
       "0  1409374907834699781  #BlackAdam v. #Superman: Dawn of Justice (Agai...   \n",
       "1  1238671668945575936  Just saw Black Adam today and the long wait wa...   \n",
       "2  1576943214568914946  Black Adam opens at the top of the weekend box...   \n",
       "3  1001932871559516160  Bitch said what movie she should see I said bl...   \n",
       "4  1445981969318301698                              Black Adam was boring   \n",
       "\n",
       "               time_of_tweet  \\\n",
       "0  2022-10-23 23:59:59+00:00   \n",
       "1  2022-10-23 23:59:56+00:00   \n",
       "2  2022-10-23 23:59:55+00:00   \n",
       "3  2022-10-23 23:59:50+00:00   \n",
       "4  2022-10-23 23:59:49+00:00   \n",
       "\n",
       "                                      public_metrics  \\\n",
       "0  {'retweet_count': 0, 'reply_count': 2, 'like_c...   \n",
       "1  {'retweet_count': 0, 'reply_count': 0, 'like_c...   \n",
       "2  {'retweet_count': 0, 'reply_count': 0, 'like_c...   \n",
       "3  {'retweet_count': 0, 'reply_count': 0, 'like_c...   \n",
       "4  {'retweet_count': 0, 'reply_count': 0, 'like_c...   \n",
       "\n",
       "                                            hashtags  \\\n",
       "0  #blackadam #superman #andor #gothamknights #mo...   \n",
       "1                          #blackadam #dceu #therock   \n",
       "2                                                      \n",
       "3                                                      \n",
       "4                                                      \n",
       "\n",
       "                                      cleaned_tweets  \n",
       "0  v. dawn justice curious ep curious existential...  \n",
       "1  saw black adam long wait worth far one best fi...  \n",
       "2             black adam open top weekend box office  \n",
       "3  bitch said movie see said black adam said neve...  \n",
       "4                                  black adam boring  "
      ]
     },
     "execution_count": 219,
     "metadata": {},
     "output_type": "execute_result"
    }
   ],
   "source": [
    "# create a new column called 'cleaned tweets' by applying processing tweets function to the tweet column.\n",
    "blackadam_df['cleaned_tweets'] = blackadam_df['tweet'].apply(processing_tweets)\n",
    "blackadam_df.head()"
   ]
  },
  {
   "cell_type": "code",
   "execution_count": 220,
   "id": "a0bce6b2",
   "metadata": {},
   "outputs": [
    {
     "data": {
      "text/html": [
       "<div>\n",
       "<style scoped>\n",
       "    .dataframe tbody tr th:only-of-type {\n",
       "        vertical-align: middle;\n",
       "    }\n",
       "\n",
       "    .dataframe tbody tr th {\n",
       "        vertical-align: top;\n",
       "    }\n",
       "\n",
       "    .dataframe thead th {\n",
       "        text-align: right;\n",
       "    }\n",
       "</style>\n",
       "<table border=\"1\" class=\"dataframe\">\n",
       "  <thead>\n",
       "    <tr style=\"text-align: right;\">\n",
       "      <th></th>\n",
       "      <th>author_id</th>\n",
       "      <th>tweet</th>\n",
       "      <th>time_of_tweet</th>\n",
       "      <th>public_metrics</th>\n",
       "      <th>hashtags</th>\n",
       "      <th>cleaned_tweets</th>\n",
       "    </tr>\n",
       "  </thead>\n",
       "  <tbody>\n",
       "    <tr>\n",
       "      <th>486</th>\n",
       "      <td>17878196</td>\n",
       "      <td>ESPN and Warner Bros. Celebrate MNF With Black...</td>\n",
       "      <td>2022-10-25 10:25:24+00:00</td>\n",
       "      <td>{'retweet_count': 0, 'reply_count': 0, 'like_c...</td>\n",
       "      <td></td>\n",
       "      <td>espn warner bros. celebrate mnf black adam film</td>\n",
       "    </tr>\n",
       "    <tr>\n",
       "      <th>1200</th>\n",
       "      <td>544114312</td>\n",
       "      <td>Didn't know Harris Rauf is a Black Adam fan ht...</td>\n",
       "      <td>2022-10-25 08:56:58+00:00</td>\n",
       "      <td>{'retweet_count': 0, 'reply_count': 1, 'like_c...</td>\n",
       "      <td></td>\n",
       "      <td>n't know harris rauf black adam fan</td>\n",
       "    </tr>\n",
       "    <tr>\n",
       "      <th>366</th>\n",
       "      <td>2445588373</td>\n",
       "      <td>Today's NEW #Shorts Green Lantern Acts Childis...</td>\n",
       "      <td>2022-10-25 11:07:03+00:00</td>\n",
       "      <td>{'retweet_count': 3, 'reply_count': 0, 'like_c...</td>\n",
       "      <td>#shorts #youtubeshorts #blackadam #youtubegami...</td>\n",
       "      <td>new green lantern act childish</td>\n",
       "    </tr>\n",
       "    <tr>\n",
       "      <th>1525</th>\n",
       "      <td>218812313</td>\n",
       "      <td>16 years +: DC Comic – Gotham Knights Review!!...</td>\n",
       "      <td>2022-10-25 07:08:55+00:00</td>\n",
       "      <td>{'retweet_count': 4, 'reply_count': 0, 'like_c...</td>\n",
       "      <td>#gothamknights #dccomics #blackadam #playstati...</td>\n",
       "      <td>year dc comic – gotham knight review</td>\n",
       "    </tr>\n",
       "    <tr>\n",
       "      <th>996</th>\n",
       "      <td>1540326366498811905</td>\n",
       "      <td>Black Adam and arcade mode are headed to Multi...</td>\n",
       "      <td>2022-10-25 10:23:17+00:00</td>\n",
       "      <td>{'retweet_count': 0, 'reply_count': 0, 'like_c...</td>\n",
       "      <td></td>\n",
       "      <td>black adam arcade mode headed multiversus week</td>\n",
       "    </tr>\n",
       "  </tbody>\n",
       "</table>\n",
       "</div>"
      ],
      "text/plain": [
       "                author_id                                              tweet  \\\n",
       "486              17878196  ESPN and Warner Bros. Celebrate MNF With Black...   \n",
       "1200            544114312  Didn't know Harris Rauf is a Black Adam fan ht...   \n",
       "366            2445588373  Today's NEW #Shorts Green Lantern Acts Childis...   \n",
       "1525            218812313  16 years +: DC Comic – Gotham Knights Review!!...   \n",
       "996   1540326366498811905  Black Adam and arcade mode are headed to Multi...   \n",
       "\n",
       "                  time_of_tweet  \\\n",
       "486   2022-10-25 10:25:24+00:00   \n",
       "1200  2022-10-25 08:56:58+00:00   \n",
       "366   2022-10-25 11:07:03+00:00   \n",
       "1525  2022-10-25 07:08:55+00:00   \n",
       "996   2022-10-25 10:23:17+00:00   \n",
       "\n",
       "                                         public_metrics  \\\n",
       "486   {'retweet_count': 0, 'reply_count': 0, 'like_c...   \n",
       "1200  {'retweet_count': 0, 'reply_count': 1, 'like_c...   \n",
       "366   {'retweet_count': 3, 'reply_count': 0, 'like_c...   \n",
       "1525  {'retweet_count': 4, 'reply_count': 0, 'like_c...   \n",
       "996   {'retweet_count': 0, 'reply_count': 0, 'like_c...   \n",
       "\n",
       "                                               hashtags  \\\n",
       "486                                                       \n",
       "1200                                                      \n",
       "366   #shorts #youtubeshorts #blackadam #youtubegami...   \n",
       "1525  #gothamknights #dccomics #blackadam #playstati...   \n",
       "996                                                       \n",
       "\n",
       "                                       cleaned_tweets  \n",
       "486   espn warner bros. celebrate mnf black adam film  \n",
       "1200              n't know harris rauf black adam fan  \n",
       "366                    new green lantern act childish  \n",
       "1525             year dc comic – gotham knight review  \n",
       "996    black adam arcade mode headed multiversus week  "
      ]
     },
     "execution_count": 220,
     "metadata": {},
     "output_type": "execute_result"
    }
   ],
   "source": [
    "#Extract all cleanned tweets into one list string with each word separate with a \"space\"\n",
    "\n",
    "tweets_list_string = blackadam_df[\"cleaned_tweets\"].tolist()\n",
    "tweets_list_string = \" \".join(tweets_list_string)\n",
    "blackadam_df.sample(5)"
   ]
  },
  {
   "cell_type": "markdown",
   "id": "65be7d34",
   "metadata": {},
   "source": [
    "# Sentiment Analysis"
   ]
  },
  {
   "cell_type": "code",
   "execution_count": 221,
   "id": "e2a3741e",
   "metadata": {},
   "outputs": [],
   "source": [
    "def get_tweet_polarity(tweet):\n",
    "        \"\"\"\n",
    "        Utility function to classify sentiment of passed tweet\n",
    "        using textblob's sentiment method\n",
    "        \"\"\"\n",
    "        return TextBlob(tweet).sentiment.polarity\n",
    "def get_sentiment_textblob(text):\n",
    "        if text > 0:                \n",
    "            return \"positive\"\n",
    "        elif text == 0:\n",
    "            return \"neutral\"\n",
    "        else:\n",
    "            return \"negative\""
   ]
  },
  {
   "cell_type": "code",
   "execution_count": 222,
   "id": "7d2ede4d",
   "metadata": {},
   "outputs": [
    {
     "data": {
      "text/plain": [
       "548     positive\n",
       "1030    negative\n",
       "464     negative\n",
       "1376    positive\n",
       "1421    positive\n",
       "Name: sentiment, dtype: object"
      ]
     },
     "execution_count": 222,
     "metadata": {},
     "output_type": "execute_result"
    }
   ],
   "source": [
    "# create a new column called 'polarity' & 'sentiment' by applying 'get tweet polarity' & 'get sentiment textblob' \n",
    "#function to the 'cleaned tweet' & 'polarity' column.\n",
    "\n",
    "blackadam_df['polarity']=blackadam_df['cleaned_tweets'].apply(get_tweet_polarity)\n",
    "blackadam_df['sentiment']=blackadam_df['polarity'].apply(get_sentiment_textblob)\n",
    "blackadam_df['sentiment'].sample(5)"
   ]
  },
  {
   "cell_type": "code",
   "execution_count": 223,
   "id": "95f32ba1",
   "metadata": {},
   "outputs": [
    {
     "data": {
      "text/plain": [
       "1414    0.000000\n",
       "819    -0.125000\n",
       "304     0.091667\n",
       "571     0.083333\n",
       "1566    0.266667\n",
       "Name: polarity, dtype: float64"
      ]
     },
     "execution_count": 223,
     "metadata": {},
     "output_type": "execute_result"
    }
   ],
   "source": [
    "blackadam_df['polarity'].sample(5)"
   ]
  },
  {
   "cell_type": "code",
   "execution_count": 224,
   "id": "d89e6298",
   "metadata": {},
   "outputs": [],
   "source": [
    "#create a function to calculate the total and percentage of sentiments\n",
    "\n",
    "def sentiment_count(data, count):\n",
    "    total = data.loc[:,count].value_counts(dropna=False)\n",
    "    percentage = round(data.loc[:,count].value_counts(dropna=False,normalize=True)*100,2)\n",
    "    return pd.concat([total, percentage],axis=1,keys=[\"total\", \"Percentage\"])"
   ]
  },
  {
   "cell_type": "code",
   "execution_count": 225,
   "id": "bedecc09",
   "metadata": {},
   "outputs": [],
   "source": [
    "#save sentiment count to csv for visualization\n",
    "\n",
    "sentiment_count(blackadam_df, \"sentiment\").to_csv(\"sentiment_count.csv\")"
   ]
  },
  {
   "cell_type": "code",
   "execution_count": 234,
   "id": "1630b116",
   "metadata": {},
   "outputs": [],
   "source": [
    "# get unique values and count in sentiment column\n",
    "\n",
    "sentiment_df = blackadam_df['sentiment'].value_counts()\n"
   ]
  },
  {
   "cell_type": "markdown",
   "id": "395433aa",
   "metadata": {},
   "source": [
    "# Visualization"
   ]
  },
  {
   "cell_type": "code",
   "execution_count": 258,
   "id": "f561d97c",
   "metadata": {},
   "outputs": [],
   "source": [
    "#define a function to design the backgorund of word cloud object\n",
    "\n",
    "def word_color_func(word, font_size, position, orientation=\"horizontal\", random_state=None,**kwargs):\n",
    "    return \"hsl(34, 99%%, %d%%)\" % random.randint(50, 80)"
   ]
  },
  {
   "cell_type": "code",
   "execution_count": 283,
   "id": "50993204",
   "metadata": {},
   "outputs": [
    {
     "data": {
      "image/png": "[encoded data removed]",
      "text/plain": [
       "<Figure size 432x288 with 1 Axes>"
      ]
     },
     "metadata": {
      "needs_background": "light"
     },
     "output_type": "display_data"
    }
   ],
   "source": [
    "twitter_wc = WordCloud(background_color='#172522')\n",
    "\n",
    "# generate the word cloud\n",
    "twitter_wc.generate(tweets_list_string)\n",
    "\n",
    "# display the word cloud\n",
    "plt.figure()\n",
    "\n",
    "\n",
    "plt.imshow(twitter_wc.recolor(color_func = word_color_func, random_state=3),\n",
    "           interpolation=\"bilinear\")\n",
    "plt.axis(\"off\")\n",
    "plt.title(\"Word Cloud Representation of Tweets\");\n",
    "plt.show()\n",
    "\n",
    "# store to file\n",
    "#plt.savefig(\"blackadamedit.png\", format=\"png\")\n",
    "#plt.show()"
   ]
  },
  {
   "cell_type": "code",
   "execution_count": 275,
   "id": "7af5b8eb",
   "metadata": {},
   "outputs": [
    {
     "data": {
      "text/plain": [
       "Text(0.5, 1.0, 'Twitter Users Sentiments on Black Adam movie')"
      ]
     },
     "execution_count": 275,
     "metadata": {},
     "output_type": "execute_result"
    },
    {
     "data": {
      "image/png": "[encoded data removed]",
      "text/plain": [
       "<Figure size 1080x720 with 1 Axes>"
      ]
     },
     "metadata": {},
     "output_type": "display_data"
    }
   ],
   "source": [
    "#Plotting a pie chart to show distribution of Sentiments\n",
    "\n",
    "labels = \"Positive\", \"Neutral\", \"Negative\"\n",
    "explode = (0.05, 0, 0)                                              # only \"explode\" the first slice (i.e. 'positive')\n",
    "plt.figure(figsize=[15,10], facecolor='none')\n",
    "plt.pie(sentiment_df, labels=labels, colors=['#c66300', '#666666'], \n",
    "        startangle=90, shadow=True, explode=explode, autopct='%1.1f%%');\n",
    "plt.title('Twitter Users Sentiments on Black Adam movie')"
   ]
  },
  {
   "cell_type": "code",
   "execution_count": 254,
   "id": "3b403e51",
   "metadata": {},
   "outputs": [
    {
     "data": {
      "image/png": "[encoded data removed]",
      "text/plain": [
       "<Figure size 1296x432 with 1 Axes>"
      ]
     },
     "metadata": {
      "needs_background": "light"
     },
     "output_type": "display_data"
    }
   ],
   "source": [
    "blackadam_df['time_of_tweet'] = pd.to_datetime(blackadam_df['time_of_tweet'])\n",
    "\n",
    "\n",
    "tweet_time_df = blackadam_df.groupby(pd.Grouper(key='time_of_tweet', freq='30Min', convention='start')).size()\n",
    "tweet_time_df.plot(figsize=(18,6))\n",
    "plt.ylabel(\"30 Minute Tweet Count\")\n",
    "plt.title(\"Black Adam tweets by minutes.\")\n",
    "plt.grid(True)"
   ]
  },
  {
   "cell_type": "markdown",
   "id": "58d189c4",
   "metadata": {},
   "source": [
    "More data is needed "
   ]
  },
  {
   "cell_type": "code",
   "execution_count": null,
   "id": "e8ff4d09",
   "metadata": {},
   "outputs": [],
   "source": []
  },
  {
   "cell_type": "code",
   "execution_count": null,
   "id": "77799b01",
   "metadata": {},
   "outputs": [],
   "source": []
  }
 ],
 "metadata": {
  "kernelspec": {
   "display_name": "Python 3 (ipykernel)",
   "language": "python",
   "name": "python3"
  },
  "language_info": {
   "codemirror_mode": {
    "name": "ipython",
    "version": 3
   },
   "file_extension": ".py",
   "mimetype": "text/x-python",
   "name": "python",
   "nbconvert_exporter": "python",
   "pygments_lexer": "ipython3",
   "version": "3.9.12"
  }
 },
 "nbformat": 4,
 "nbformat_minor": 5
}
