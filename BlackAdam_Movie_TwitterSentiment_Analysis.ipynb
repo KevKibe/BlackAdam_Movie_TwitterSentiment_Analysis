{
 "cells": [
  {
   "cell_type": "code",
   "execution_count": 1,
   "id": "f9eb9c89",
   "metadata": {},
   "outputs": [],
   "source": [
    "import configparser\n",
    "import snscrape.modules.twitter as sntwitter # to scrape tweets\n",
    "import numpy as np\n",
    "import pandas as pd\n",
    "from wordcloud import WordCloud\n",
    "from emot.emo_unicode import UNICODE_EMOJI # For emojis\n",
    "import re\n",
    "from collections import Counter\n",
    "import matplotlib.pyplot as plt\n",
    "%matplotlib inline\n",
    "import seaborn as sns\n",
    "\n",
    "import nltk\n",
    "from nltk.corpus import stopwords       # to get stopwords from NLTK library\n",
    "from nltk.tokenize import word_tokenize # to create word tokens\n",
    "from nltk.stem import WordNetLemmatizer # to reduce words to orginal form\n",
    "from nltk.corpus import words           # Get all words in english \n",
    "\n",
    "import string\n",
    "import random\n",
    "from PIL import Image\n",
    "\n",
    "import textblob\n",
    "from textblob import TextBlob"
   ]
  },
  {
   "cell_type": "markdown",
   "id": "6d1496e1",
   "metadata": {},
   "source": [
    "# Scraping data from the API"
   ]
  },
  {
   "cell_type": "code",
   "execution_count": 189,
   "id": "7e0b3c50",
   "metadata": {},
   "outputs": [],
   "source": [
    "query = '\"lang:en\" \"since:2022-10-21\" BlackAdam OR blackadam OR BLACK ADAM OR black adam  -is:retweet -is:reply '\n",
    "\n",
    "tweets = [] # create an empty list where tweets would be appended to\n",
    "limit = 30000 # number of tweets to scrape\n",
    "count=0"
   ]
  },
  {
   "cell_type": "code",
   "execution_count": null,
   "id": "91e4268f",
   "metadata": {},
   "outputs": [],
   "source": [
    "for tweet in sntwitter.TwitterSearchScraper(query).get_items():\n",
    "    count += 1 \n",
    "    # break\n",
    "    if len(tweets) == limit:\n",
    "        break\n",
    "    else:\n",
    "        # append necessary attributes to empty list\n",
    "        tweets.append([tweet.date, tweet.content, tweet.user.username, \n",
    "        tweet.user.location, tweet.retweetCount, tweet.likeCount, tweet.sourceLabel, tweet.coordinates])\n",
    "#to turn tweetlist to a dataframe        \n",
    "df = pd.DataFrame(tweets, columns=['date','tweet','username','location','retweetcount','likecount','source','coordinates'])    \n"
   ]
  },
  {
   "cell_type": "code",
   "execution_count": 193,
   "id": "75d23d2c",
   "metadata": {},
   "outputs": [],
   "source": [
    "title = \"BlackAdam\"\n",
    "df.to_csv('blackadam1.csv')"
   ]
  },
  {
   "cell_type": "markdown",
   "id": "24d6dcc3",
   "metadata": {},
   "source": [
    "## Assessing the data"
   ]
  },
  {
   "cell_type": "code",
   "execution_count": 4,
   "id": "08b7922f",
   "metadata": {},
   "outputs": [
    {
     "data": {
      "text/plain": [
       "156"
      ]
     },
     "execution_count": 4,
     "metadata": {},
     "output_type": "execute_result"
    }
   ],
   "source": [
    "blackadam_df=pd.read_csv(r\"C:\\Users\\kibe\\Desktop\\Projects\\Great learning Python\\blackadamnew.csv\")\n",
    "#checking for duplicate entries\n",
    "blackadam_df.duplicated().sum()"
   ]
  },
  {
   "cell_type": "code",
   "execution_count": 5,
   "id": "f223b478",
   "metadata": {},
   "outputs": [
    {
     "data": {
      "text/plain": [
       "0"
      ]
     },
     "execution_count": 5,
     "metadata": {},
     "output_type": "execute_result"
    }
   ],
   "source": [
    "#to dropduplicate entries\n",
    "blackadam_df= blackadam_df.drop_duplicates(keep='first')\n",
    "blackadam_df.duplicated().sum()"
   ]
  },
  {
   "cell_type": "code",
   "execution_count": 6,
   "id": "354f5298",
   "metadata": {},
   "outputs": [
    {
     "data": {
      "text/plain": [
       "date                0\n",
       "text                0\n",
       "username            0\n",
       "location        10000\n",
       "retweetcount        0\n",
       "likecount           0\n",
       "source              0\n",
       "coordinates     29289\n",
       "dtype: int64"
      ]
     },
     "execution_count": 6,
     "metadata": {},
     "output_type": "execute_result"
    }
   ],
   "source": [
    "#checking for null values\n",
    "blackadam_df.isnull().sum()"
   ]
  },
  {
   "cell_type": "code",
   "execution_count": 7,
   "id": "9aafd84c",
   "metadata": {},
   "outputs": [
    {
     "data": {
      "text/plain": [
       "date            object\n",
       "text            object\n",
       "username        object\n",
       "location        object\n",
       "retweetcount     int64\n",
       "likecount        int64\n",
       "source          object\n",
       "coordinates     object\n",
       "dtype: object"
      ]
     },
     "execution_count": 7,
     "metadata": {},
     "output_type": "execute_result"
    }
   ],
   "source": [
    "#checking the data types of the columns\n",
    "blackadam_df.dtypes"
   ]
  },
  {
   "cell_type": "code",
   "execution_count": 8,
   "id": "24376d18",
   "metadata": {},
   "outputs": [],
   "source": [
    "#dropping unwanted columns\n",
    "blackadam_df.drop(\"coordinates\", axis=1, inplace=True)\n"
   ]
  },
  {
   "cell_type": "code",
   "execution_count": 12,
   "id": "f6d5882b",
   "metadata": {},
   "outputs": [
    {
     "data": {
      "text/html": [
       "<div>\n",
       "<style scoped>\n",
       "    .dataframe tbody tr th:only-of-type {\n",
       "        vertical-align: middle;\n",
       "    }\n",
       "\n",
       "    .dataframe tbody tr th {\n",
       "        vertical-align: top;\n",
       "    }\n",
       "\n",
       "    .dataframe thead th {\n",
       "        text-align: right;\n",
       "    }\n",
       "</style>\n",
       "<table border=\"1\" class=\"dataframe\">\n",
       "  <thead>\n",
       "    <tr style=\"text-align: right;\">\n",
       "      <th></th>\n",
       "      <th>date</th>\n",
       "      <th>tweet</th>\n",
       "      <th>username</th>\n",
       "      <th>location</th>\n",
       "      <th>retweetcount</th>\n",
       "      <th>likecount</th>\n",
       "      <th>source</th>\n",
       "    </tr>\n",
       "  </thead>\n",
       "  <tbody>\n",
       "    <tr>\n",
       "      <th>0</th>\n",
       "      <td>2022-10-27 08:00:57+00:00</td>\n",
       "      <td>Once I start going to the movies again it’s ad...</td>\n",
       "      <td>Ssentongopeter5</td>\n",
       "      <td>Uganda</td>\n",
       "      <td>0</td>\n",
       "      <td>0</td>\n",
       "      <td>Twitter for iPhone</td>\n",
       "    </tr>\n",
       "    <tr>\n",
       "      <th>1</th>\n",
       "      <td>2022-10-27 08:00:53+00:00</td>\n",
       "      <td>@VootSelect Fights achi thi black adam mein\\n#...</td>\n",
       "      <td>kyabolunmain</td>\n",
       "      <td>NaN</td>\n",
       "      <td>1</td>\n",
       "      <td>0</td>\n",
       "      <td>Twitter for Android</td>\n",
       "    </tr>\n",
       "    <tr>\n",
       "      <th>2</th>\n",
       "      <td>2022-10-27 08:00:42+00:00</td>\n",
       "      <td>@innocenttt_k Shey dem curfew your ass with be...</td>\n",
       "      <td>A_damex</td>\n",
       "      <td>Ghana</td>\n",
       "      <td>0</td>\n",
       "      <td>0</td>\n",
       "      <td>Twitter for Android</td>\n",
       "    </tr>\n",
       "    <tr>\n",
       "      <th>3</th>\n",
       "      <td>2022-10-27 08:00:41+00:00</td>\n",
       "      <td>As Black History Month draws to a close, BEIS ...</td>\n",
       "      <td>CSCollegeOrg</td>\n",
       "      <td>Queen Anne's Gate, London</td>\n",
       "      <td>0</td>\n",
       "      <td>0</td>\n",
       "      <td>Hootsuite Inc.</td>\n",
       "    </tr>\n",
       "    <tr>\n",
       "      <th>4</th>\n",
       "      <td>2022-10-27 08:00:32+00:00</td>\n",
       "      <td>@VootSelect Black adam mein hawk man ka charac...</td>\n",
       "      <td>kyabolunmain</td>\n",
       "      <td>NaN</td>\n",
       "      <td>1</td>\n",
       "      <td>0</td>\n",
       "      <td>Twitter for Android</td>\n",
       "    </tr>\n",
       "  </tbody>\n",
       "</table>\n",
       "</div>"
      ],
      "text/plain": [
       "                        date  \\\n",
       "0  2022-10-27 08:00:57+00:00   \n",
       "1  2022-10-27 08:00:53+00:00   \n",
       "2  2022-10-27 08:00:42+00:00   \n",
       "3  2022-10-27 08:00:41+00:00   \n",
       "4  2022-10-27 08:00:32+00:00   \n",
       "\n",
       "                                               tweet         username  \\\n",
       "0  Once I start going to the movies again it’s ad...  Ssentongopeter5   \n",
       "1  @VootSelect Fights achi thi black adam mein\\n#...     kyabolunmain   \n",
       "2  @innocenttt_k Shey dem curfew your ass with be...          A_damex   \n",
       "3  As Black History Month draws to a close, BEIS ...     CSCollegeOrg   \n",
       "4  @VootSelect Black adam mein hawk man ka charac...     kyabolunmain   \n",
       "\n",
       "                    location  retweetcount  likecount               source  \n",
       "0                    Uganda              0          0   Twitter for iPhone  \n",
       "1                        NaN             1          0  Twitter for Android  \n",
       "2                      Ghana             0          0  Twitter for Android  \n",
       "3  Queen Anne's Gate, London             0          0       Hootsuite Inc.  \n",
       "4                        NaN             1          0  Twitter for Android  "
      ]
     },
     "execution_count": 12,
     "metadata": {},
     "output_type": "execute_result"
    }
   ],
   "source": [
    "blackadam_df.head()"
   ]
  },
  {
   "cell_type": "code",
   "execution_count": 13,
   "id": "ccdd0948",
   "metadata": {},
   "outputs": [],
   "source": [
    "#saving the cleaned dataframe to csv file\n",
    "blackadam_df.to_csv(\"new_clean_blackadam.csv\")"
   ]
  },
  {
   "cell_type": "markdown",
   "id": "e0b33ee8",
   "metadata": {},
   "source": [
    "# Data Processing"
   ]
  },
  {
   "cell_type": "code",
   "execution_count": 14,
   "id": "f045afc9",
   "metadata": {},
   "outputs": [],
   "source": [
    "#function to remove hashtag\n",
    "def Hashtag(tweet):\n",
    "    tweet = tweet.lower()  #converts tweet to lower case\n",
    "    tweet = re.findall(r'\\#\\w+',tweet)  \n",
    "    return \" \".join(tweet)"
   ]
  },
  {
   "cell_type": "code",
   "execution_count": 16,
   "id": "3a325079",
   "metadata": {},
   "outputs": [
    {
     "data": {
      "text/html": [
       "<div>\n",
       "<style scoped>\n",
       "    .dataframe tbody tr th:only-of-type {\n",
       "        vertical-align: middle;\n",
       "    }\n",
       "\n",
       "    .dataframe tbody tr th {\n",
       "        vertical-align: top;\n",
       "    }\n",
       "\n",
       "    .dataframe thead th {\n",
       "        text-align: right;\n",
       "    }\n",
       "</style>\n",
       "<table border=\"1\" class=\"dataframe\">\n",
       "  <thead>\n",
       "    <tr style=\"text-align: right;\">\n",
       "      <th></th>\n",
       "      <th>date</th>\n",
       "      <th>tweet</th>\n",
       "      <th>username</th>\n",
       "      <th>location</th>\n",
       "      <th>retweetcount</th>\n",
       "      <th>likecount</th>\n",
       "      <th>source</th>\n",
       "      <th>hashtags</th>\n",
       "    </tr>\n",
       "  </thead>\n",
       "  <tbody>\n",
       "    <tr>\n",
       "      <th>0</th>\n",
       "      <td>2022-10-27 08:00:57+00:00</td>\n",
       "      <td>Once I start going to the movies again it’s ad...</td>\n",
       "      <td>Ssentongopeter5</td>\n",
       "      <td>Uganda</td>\n",
       "      <td>0</td>\n",
       "      <td>0</td>\n",
       "      <td>Twitter for iPhone</td>\n",
       "      <td></td>\n",
       "    </tr>\n",
       "    <tr>\n",
       "      <th>1</th>\n",
       "      <td>2022-10-27 08:00:53+00:00</td>\n",
       "      <td>@VootSelect Fights achi thi black adam mein\\n#...</td>\n",
       "      <td>kyabolunmain</td>\n",
       "      <td>NaN</td>\n",
       "      <td>1</td>\n",
       "      <td>0</td>\n",
       "      <td>Twitter for Android</td>\n",
       "      <td>#shivistheboss #shivthakare</td>\n",
       "    </tr>\n",
       "    <tr>\n",
       "      <th>2</th>\n",
       "      <td>2022-10-27 08:00:42+00:00</td>\n",
       "      <td>@innocenttt_k Shey dem curfew your ass with be...</td>\n",
       "      <td>A_damex</td>\n",
       "      <td>Ghana</td>\n",
       "      <td>0</td>\n",
       "      <td>0</td>\n",
       "      <td>Twitter for Android</td>\n",
       "      <td></td>\n",
       "    </tr>\n",
       "    <tr>\n",
       "      <th>3</th>\n",
       "      <td>2022-10-27 08:00:41+00:00</td>\n",
       "      <td>As Black History Month draws to a close, BEIS ...</td>\n",
       "      <td>CSCollegeOrg</td>\n",
       "      <td>Queen Anne's Gate, London</td>\n",
       "      <td>0</td>\n",
       "      <td>0</td>\n",
       "      <td>Hootsuite Inc.</td>\n",
       "      <td></td>\n",
       "    </tr>\n",
       "    <tr>\n",
       "      <th>4</th>\n",
       "      <td>2022-10-27 08:00:32+00:00</td>\n",
       "      <td>@VootSelect Black adam mein hawk man ka charac...</td>\n",
       "      <td>kyabolunmain</td>\n",
       "      <td>NaN</td>\n",
       "      <td>1</td>\n",
       "      <td>0</td>\n",
       "      <td>Twitter for Android</td>\n",
       "      <td>#shivistheboss #shivthakare</td>\n",
       "    </tr>\n",
       "  </tbody>\n",
       "</table>\n",
       "</div>"
      ],
      "text/plain": [
       "                        date  \\\n",
       "0  2022-10-27 08:00:57+00:00   \n",
       "1  2022-10-27 08:00:53+00:00   \n",
       "2  2022-10-27 08:00:42+00:00   \n",
       "3  2022-10-27 08:00:41+00:00   \n",
       "4  2022-10-27 08:00:32+00:00   \n",
       "\n",
       "                                               tweet         username  \\\n",
       "0  Once I start going to the movies again it’s ad...  Ssentongopeter5   \n",
       "1  @VootSelect Fights achi thi black adam mein\\n#...     kyabolunmain   \n",
       "2  @innocenttt_k Shey dem curfew your ass with be...          A_damex   \n",
       "3  As Black History Month draws to a close, BEIS ...     CSCollegeOrg   \n",
       "4  @VootSelect Black adam mein hawk man ka charac...     kyabolunmain   \n",
       "\n",
       "                    location  retweetcount  likecount               source  \\\n",
       "0                    Uganda              0          0   Twitter for iPhone   \n",
       "1                        NaN             1          0  Twitter for Android   \n",
       "2                      Ghana             0          0  Twitter for Android   \n",
       "3  Queen Anne's Gate, London             0          0       Hootsuite Inc.   \n",
       "4                        NaN             1          0  Twitter for Android   \n",
       "\n",
       "                      hashtags  \n",
       "0                               \n",
       "1  #shivistheboss #shivthakare  \n",
       "2                               \n",
       "3                               \n",
       "4  #shivistheboss #shivthakare  "
      ]
     },
     "execution_count": 16,
     "metadata": {},
     "output_type": "execute_result"
    }
   ],
   "source": [
    "blackadam_df['hashtags'] = blackadam_df['tweet'].apply(Hashtag)\n",
    "blackadam_df.head(5)"
   ]
  },
  {
   "cell_type": "code",
   "execution_count": 17,
   "id": "6215d966",
   "metadata": {},
   "outputs": [],
   "source": [
    "#converting the hashtag column to a list in other to get the value counts\n",
    "hashtag_list = blackadam_df[\"hashtags\"].to_list()\n",
    "\n",
    "new_hashtags = []\n",
    "for hash in hashtag_list:\n",
    "    new_hash = hash.split()\n",
    "    for new in new_hash:\n",
    "        new_hashtags.append(new)\n",
    "        new_hashtags\n"
   ]
  },
  {
   "cell_type": "code",
   "execution_count": 18,
   "id": "ef3a2310",
   "metadata": {},
   "outputs": [
    {
     "data": {
      "text/html": [
       "<div>\n",
       "<style scoped>\n",
       "    .dataframe tbody tr th:only-of-type {\n",
       "        vertical-align: middle;\n",
       "    }\n",
       "\n",
       "    .dataframe tbody tr th {\n",
       "        vertical-align: top;\n",
       "    }\n",
       "\n",
       "    .dataframe thead th {\n",
       "        text-align: right;\n",
       "    }\n",
       "</style>\n",
       "<table border=\"1\" class=\"dataframe\">\n",
       "  <thead>\n",
       "    <tr style=\"text-align: right;\">\n",
       "      <th></th>\n",
       "      <th>hashtag</th>\n",
       "      <th>counts</th>\n",
       "    </tr>\n",
       "  </thead>\n",
       "  <tbody>\n",
       "    <tr>\n",
       "      <th>2</th>\n",
       "      <td>#blackadam</td>\n",
       "      <td>1355</td>\n",
       "    </tr>\n",
       "    <tr>\n",
       "      <th>17</th>\n",
       "      <td>#blackadammovie</td>\n",
       "      <td>549</td>\n",
       "    </tr>\n",
       "    <tr>\n",
       "      <th>10</th>\n",
       "      <td>#dccomics</td>\n",
       "      <td>233</td>\n",
       "    </tr>\n",
       "    <tr>\n",
       "      <th>3</th>\n",
       "      <td>#dceu</td>\n",
       "      <td>158</td>\n",
       "    </tr>\n",
       "    <tr>\n",
       "      <th>18</th>\n",
       "      <td>#superman</td>\n",
       "      <td>139</td>\n",
       "    </tr>\n",
       "  </tbody>\n",
       "</table>\n",
       "</div>"
      ],
      "text/plain": [
       "            hashtag  counts\n",
       "2        #blackadam    1355\n",
       "17  #blackadammovie     549\n",
       "10        #dccomics     233\n",
       "3             #dceu     158\n",
       "18        #superman     139"
      ]
     },
     "execution_count": 18,
     "metadata": {},
     "output_type": "execute_result"
    }
   ],
   "source": [
    "counts = Counter(new_hashtags)\n",
    "hashtag_df = pd.DataFrame.from_dict(counts, orient=\"index\").reset_index()\n",
    "hashtag_df.columns = [\"hashtag\", \"counts\"]\n",
    "hashtag_df.sort_values(\"counts\", ascending=False, inplace=True)\n",
    "hashtag_df.head()"
   ]
  },
  {
   "cell_type": "code",
   "execution_count": 20,
   "id": "1e51bd5a",
   "metadata": {},
   "outputs": [],
   "source": [
    "hashtag_df.to_csv(\"new_blackadam_hashtags.csv\")"
   ]
  },
  {
   "cell_type": "code",
   "execution_count": 21,
   "id": "d4962d3d",
   "metadata": {},
   "outputs": [],
   "source": [
    "#defining processed content by removing words that do not contribute to any analysis.\n",
    "stop_words = list(stopwords.words('english'))\n",
    "user_stop_words = [\"i\", \"i'm\", \"me\", \"my\", \"myself\", \"we\", \"our\", \"ours\", \"ourselves\", \"you\", \"your\", \"yours\", \"yourself\", \n",
    "                   \"yourselves\", \"he\", \"him\", \"his\", \"himself\", \"she\", \"her\", \"hers\", \"herself\", \"it\", \"its\", \"itself\",\n",
    "                   \"they\", \"them\", \"their\", \"theirs\", \"themselves\", \"what\", \"which\", \"who\", \"whom\", \"this\", \"that\", \n",
    "                   \"these\", \"those\", \"am\", \"is\", \"are\", \"was\", \"were\", \"be\", \"been\", \"being\", \"have\", \"has\", \"had\", \n",
    "                   \"having\", \"do\", \"does\", \"did\", \"doing\", \"a\", \"an\", \"the\", \"and\", \"but\", \"i'll\",\"we'll\",\"they'll\",\n",
    "                   \"'s\",'anyone','today','yesterday','day','isnt', 'shouldnt', \"didn't\", 'wasnt', 'werent','mustnt', \n",
    "                   \"been…\",'aht', 've', 'next',\"all\", \"any\", \"both\", \"each\", 'by',\n",
    "                   \"year\"]\n",
    "\n",
    "words = [\"blackadam\", \"dc comics\",\"dccomics\",\"black adam\", \"superman\", \"henry cavil\", \"henrycavil\", \"super man\", \"the rock\", \"therock\",'dwayne johnson','dwaynejohnson']\n",
    "alphabets = list(string.ascii_lowercase)\n",
    "stop_words = stop_words + user_stop_words + alphabets + words\n",
    "emojis = list(UNICODE_EMOJI.keys())"
   ]
  },
  {
   "cell_type": "code",
   "execution_count": 22,
   "id": "bab7fa00",
   "metadata": {},
   "outputs": [],
   "source": [
    "def processing_tweets(tweet):\n",
    "    tweet = tweet.lower()\n",
    "    tweet = re.sub(r\"http\\S+|www\\S+|https\\S+\", '', tweet, flags = re.MULTILINE)   # Cleaning and removing URL’s\n",
    "    tweet = re.sub(r'\\@\\w+|\\#\\w+|\\d+', '',  tweet)                                # Cleaning and removing repeating characters\n",
    "    tweet_tokens = word_tokenize(tweet)  \n",
    "    filter_words = [w for w in tweet_tokens if w not in stop_words]\n",
    "    filter_words = [w for w in filter_words if w not in emojis]\n",
    "    unpunctuated_words = [w for w in filter_words if w not in string.punctuation] # Cleaning and removing punctuations\n",
    "    lemmatizer = WordNetLemmatizer() \n",
    "    lemmatized_words = [lemmatizer.lemmatize(w) for w in unpunctuated_words]\n",
    "    return \" \".join(lemmatized_words)"
   ]
  },
  {
   "cell_type": "code",
   "execution_count": 24,
   "id": "a500c854",
   "metadata": {},
   "outputs": [
    {
     "data": {
      "text/html": [
       "<div>\n",
       "<style scoped>\n",
       "    .dataframe tbody tr th:only-of-type {\n",
       "        vertical-align: middle;\n",
       "    }\n",
       "\n",
       "    .dataframe tbody tr th {\n",
       "        vertical-align: top;\n",
       "    }\n",
       "\n",
       "    .dataframe thead th {\n",
       "        text-align: right;\n",
       "    }\n",
       "</style>\n",
       "<table border=\"1\" class=\"dataframe\">\n",
       "  <thead>\n",
       "    <tr style=\"text-align: right;\">\n",
       "      <th></th>\n",
       "      <th>date</th>\n",
       "      <th>tweet</th>\n",
       "      <th>username</th>\n",
       "      <th>location</th>\n",
       "      <th>retweetcount</th>\n",
       "      <th>likecount</th>\n",
       "      <th>source</th>\n",
       "      <th>hashtags</th>\n",
       "      <th>cleaned_tweets</th>\n",
       "    </tr>\n",
       "  </thead>\n",
       "  <tbody>\n",
       "    <tr>\n",
       "      <th>0</th>\n",
       "      <td>2022-10-27 08:00:57+00:00</td>\n",
       "      <td>Once I start going to the movies again it’s ad...</td>\n",
       "      <td>Ssentongopeter5</td>\n",
       "      <td>Uganda</td>\n",
       "      <td>0</td>\n",
       "      <td>0</td>\n",
       "      <td>Twitter for iPhone</td>\n",
       "      <td></td>\n",
       "      <td>start going movie ’ addictive till ’ done movi...</td>\n",
       "    </tr>\n",
       "    <tr>\n",
       "      <th>1</th>\n",
       "      <td>2022-10-27 08:00:53+00:00</td>\n",
       "      <td>@VootSelect Fights achi thi black adam mein\\n#...</td>\n",
       "      <td>kyabolunmain</td>\n",
       "      <td>NaN</td>\n",
       "      <td>1</td>\n",
       "      <td>0</td>\n",
       "      <td>Twitter for Android</td>\n",
       "      <td>#shivistheboss #shivthakare</td>\n",
       "      <td>fight achi thi black adam mein</td>\n",
       "    </tr>\n",
       "    <tr>\n",
       "      <th>2</th>\n",
       "      <td>2022-10-27 08:00:42+00:00</td>\n",
       "      <td>@innocenttt_k Shey dem curfew your ass with be...</td>\n",
       "      <td>A_damex</td>\n",
       "      <td>Ghana</td>\n",
       "      <td>0</td>\n",
       "      <td>0</td>\n",
       "      <td>Twitter for Android</td>\n",
       "      <td></td>\n",
       "      <td>shey dem curfew as belt ait</td>\n",
       "    </tr>\n",
       "    <tr>\n",
       "      <th>3</th>\n",
       "      <td>2022-10-27 08:00:41+00:00</td>\n",
       "      <td>As Black History Month draws to a close, BEIS ...</td>\n",
       "      <td>CSCollegeOrg</td>\n",
       "      <td>Queen Anne's Gate, London</td>\n",
       "      <td>0</td>\n",
       "      <td>0</td>\n",
       "      <td>Hootsuite Inc.</td>\n",
       "      <td></td>\n",
       "      <td>black history month draw close beis internatio...</td>\n",
       "    </tr>\n",
       "    <tr>\n",
       "      <th>4</th>\n",
       "      <td>2022-10-27 08:00:32+00:00</td>\n",
       "      <td>@VootSelect Black adam mein hawk man ka charac...</td>\n",
       "      <td>kyabolunmain</td>\n",
       "      <td>NaN</td>\n",
       "      <td>1</td>\n",
       "      <td>0</td>\n",
       "      <td>Twitter for Android</td>\n",
       "      <td>#shivistheboss #shivthakare</td>\n",
       "      <td>black adam mein hawk man ka character acha wri...</td>\n",
       "    </tr>\n",
       "  </tbody>\n",
       "</table>\n",
       "</div>"
      ],
      "text/plain": [
       "                        date  \\\n",
       "0  2022-10-27 08:00:57+00:00   \n",
       "1  2022-10-27 08:00:53+00:00   \n",
       "2  2022-10-27 08:00:42+00:00   \n",
       "3  2022-10-27 08:00:41+00:00   \n",
       "4  2022-10-27 08:00:32+00:00   \n",
       "\n",
       "                                               tweet         username  \\\n",
       "0  Once I start going to the movies again it’s ad...  Ssentongopeter5   \n",
       "1  @VootSelect Fights achi thi black adam mein\\n#...     kyabolunmain   \n",
       "2  @innocenttt_k Shey dem curfew your ass with be...          A_damex   \n",
       "3  As Black History Month draws to a close, BEIS ...     CSCollegeOrg   \n",
       "4  @VootSelect Black adam mein hawk man ka charac...     kyabolunmain   \n",
       "\n",
       "                    location  retweetcount  likecount               source  \\\n",
       "0                    Uganda              0          0   Twitter for iPhone   \n",
       "1                        NaN             1          0  Twitter for Android   \n",
       "2                      Ghana             0          0  Twitter for Android   \n",
       "3  Queen Anne's Gate, London             0          0       Hootsuite Inc.   \n",
       "4                        NaN             1          0  Twitter for Android   \n",
       "\n",
       "                      hashtags  \\\n",
       "0                                \n",
       "1  #shivistheboss #shivthakare   \n",
       "2                                \n",
       "3                                \n",
       "4  #shivistheboss #shivthakare   \n",
       "\n",
       "                                      cleaned_tweets  \n",
       "0  start going movie ’ addictive till ’ done movi...  \n",
       "1                     fight achi thi black adam mein  \n",
       "2                        shey dem curfew as belt ait  \n",
       "3  black history month draw close beis internatio...  \n",
       "4  black adam mein hawk man ka character acha wri...  "
      ]
     },
     "execution_count": 24,
     "metadata": {},
     "output_type": "execute_result"
    }
   ],
   "source": [
    "# create a new column called 'cleaned tweets' by applying processing tweets function to the tweet column.\n",
    "blackadam_df['cleaned_tweets'] = blackadam_df['tweet'].apply(processing_tweets)\n",
    "blackadam_df.head()"
   ]
  },
  {
   "cell_type": "code",
   "execution_count": 25,
   "id": "a0bce6b2",
   "metadata": {},
   "outputs": [
    {
     "data": {
      "text/html": [
       "<div>\n",
       "<style scoped>\n",
       "    .dataframe tbody tr th:only-of-type {\n",
       "        vertical-align: middle;\n",
       "    }\n",
       "\n",
       "    .dataframe tbody tr th {\n",
       "        vertical-align: top;\n",
       "    }\n",
       "\n",
       "    .dataframe thead th {\n",
       "        text-align: right;\n",
       "    }\n",
       "</style>\n",
       "<table border=\"1\" class=\"dataframe\">\n",
       "  <thead>\n",
       "    <tr style=\"text-align: right;\">\n",
       "      <th></th>\n",
       "      <th>date</th>\n",
       "      <th>tweet</th>\n",
       "      <th>username</th>\n",
       "      <th>location</th>\n",
       "      <th>retweetcount</th>\n",
       "      <th>likecount</th>\n",
       "      <th>source</th>\n",
       "      <th>hashtags</th>\n",
       "      <th>cleaned_tweets</th>\n",
       "    </tr>\n",
       "  </thead>\n",
       "  <tbody>\n",
       "    <tr>\n",
       "      <th>25533</th>\n",
       "      <td>2022-10-24 14:06:15+00:00</td>\n",
       "      <td>@62224152b @fellawhomstdve In the context of t...</td>\n",
       "      <td>furnace_arc</td>\n",
       "      <td>NaN</td>\n",
       "      <td>0</td>\n",
       "      <td>5</td>\n",
       "      <td>Twitter Web App</td>\n",
       "      <td></td>\n",
       "      <td>context dceu absolutely point 're really sayin...</td>\n",
       "    </tr>\n",
       "    <tr>\n",
       "      <th>16664</th>\n",
       "      <td>2022-10-25 04:29:50+00:00</td>\n",
       "      <td>Ohk I am kind of late but man I watched BLACK ...</td>\n",
       "      <td>SatwalMohit</td>\n",
       "      <td>NaN</td>\n",
       "      <td>0</td>\n",
       "      <td>0</td>\n",
       "      <td>Twitter for iPad</td>\n",
       "      <td>#blackadam</td>\n",
       "      <td>ohk kind late man watched black adam want say ...</td>\n",
       "    </tr>\n",
       "    <tr>\n",
       "      <th>24352</th>\n",
       "      <td>2022-10-24 15:58:37+00:00</td>\n",
       "      <td>SHEESH! 💸 'Black Adam’ Opens With $67 Million,...</td>\n",
       "      <td>Bee4theclout</td>\n",
       "      <td>NaN</td>\n",
       "      <td>0</td>\n",
       "      <td>0</td>\n",
       "      <td>Twitter for iPhone</td>\n",
       "      <td></td>\n",
       "      <td>sheesh 'black adam ’ open million marking dway...</td>\n",
       "    </tr>\n",
       "    <tr>\n",
       "      <th>12940</th>\n",
       "      <td>2022-10-25 16:53:46+00:00</td>\n",
       "      <td>@TheCriticalDri2 I haven't seen Black Adam yet...</td>\n",
       "      <td>sessionka</td>\n",
       "      <td>United States</td>\n",
       "      <td>0</td>\n",
       "      <td>0</td>\n",
       "      <td>Twitter Web App</td>\n",
       "      <td></td>\n",
       "      <td>n't seen black adam yet 'm excited cameo</td>\n",
       "    </tr>\n",
       "    <tr>\n",
       "      <th>1673</th>\n",
       "      <td>2022-10-27 01:26:36+00:00</td>\n",
       "      <td>Everyone be watching black adam without me🥲</td>\n",
       "      <td>Dsjunkie2</td>\n",
       "      <td>NaN</td>\n",
       "      <td>0</td>\n",
       "      <td>0</td>\n",
       "      <td>Twitter for iPhone</td>\n",
       "      <td></td>\n",
       "      <td>everyone watching black adam without me🥲</td>\n",
       "    </tr>\n",
       "  </tbody>\n",
       "</table>\n",
       "</div>"
      ],
      "text/plain": [
       "                            date  \\\n",
       "25533  2022-10-24 14:06:15+00:00   \n",
       "16664  2022-10-25 04:29:50+00:00   \n",
       "24352  2022-10-24 15:58:37+00:00   \n",
       "12940  2022-10-25 16:53:46+00:00   \n",
       "1673   2022-10-27 01:26:36+00:00   \n",
       "\n",
       "                                                   tweet      username  \\\n",
       "25533  @62224152b @fellawhomstdve In the context of t...   furnace_arc   \n",
       "16664  Ohk I am kind of late but man I watched BLACK ...   SatwalMohit   \n",
       "24352  SHEESH! 💸 'Black Adam’ Opens With $67 Million,...  Bee4theclout   \n",
       "12940  @TheCriticalDri2 I haven't seen Black Adam yet...     sessionka   \n",
       "1673         Everyone be watching black adam without me🥲     Dsjunkie2   \n",
       "\n",
       "            location  retweetcount  likecount              source    hashtags  \\\n",
       "25533            NaN             0          5     Twitter Web App               \n",
       "16664            NaN             0          0    Twitter for iPad  #blackadam   \n",
       "24352            NaN             0          0  Twitter for iPhone               \n",
       "12940  United States             0          0     Twitter Web App               \n",
       "1673             NaN             0          0  Twitter for iPhone               \n",
       "\n",
       "                                          cleaned_tweets  \n",
       "25533  context dceu absolutely point 're really sayin...  \n",
       "16664  ohk kind late man watched black adam want say ...  \n",
       "24352  sheesh 'black adam ’ open million marking dway...  \n",
       "12940           n't seen black adam yet 'm excited cameo  \n",
       "1673            everyone watching black adam without me🥲  "
      ]
     },
     "execution_count": 25,
     "metadata": {},
     "output_type": "execute_result"
    }
   ],
   "source": [
    "#Extract all cleanned tweets into one list string with each word separate with a \"space\"\n",
    "\n",
    "tweets_list_string = blackadam_df[\"cleaned_tweets\"].tolist()\n",
    "tweets_list_string = \" \".join(tweets_list_string)\n",
    "blackadam_df.sample(5)"
   ]
  },
  {
   "cell_type": "markdown",
   "id": "65be7d34",
   "metadata": {},
   "source": [
    "# Sentiment Analysis"
   ]
  },
  {
   "cell_type": "code",
   "execution_count": 26,
   "id": "e2a3741e",
   "metadata": {},
   "outputs": [],
   "source": [
    "def get_tweet_polarity(tweet):\n",
    "        \"\"\"\n",
    "        Utility function to classify sentiment of passed tweet\n",
    "        using textblob's sentiment method\n",
    "        \"\"\"\n",
    "        return TextBlob(tweet).sentiment.polarity\n",
    "def get_sentiment_textblob(text):\n",
    "        if text > 0:                \n",
    "            return \"positive\"\n",
    "        elif text == 0:\n",
    "            return \"neutral\"\n",
    "        else:\n",
    "            return \"negative\""
   ]
  },
  {
   "cell_type": "code",
   "execution_count": 27,
   "id": "7d2ede4d",
   "metadata": {},
   "outputs": [
    {
     "data": {
      "text/plain": [
       "15574    negative\n",
       "8843     positive\n",
       "25565    negative\n",
       "20379    negative\n",
       "16380    negative\n",
       "Name: sentiment, dtype: object"
      ]
     },
     "execution_count": 27,
     "metadata": {},
     "output_type": "execute_result"
    }
   ],
   "source": [
    "# create a new column called 'polarity' & 'sentiment' by applying 'get tweet polarity' & 'get sentiment textblob' \n",
    "#function to the 'cleaned tweet' & 'polarity' column.\n",
    "\n",
    "blackadam_df['polarity']=blackadam_df['cleaned_tweets'].apply(get_tweet_polarity)\n",
    "blackadam_df['sentiment']=blackadam_df['polarity'].apply(get_sentiment_textblob)\n",
    "blackadam_df['sentiment'].sample(5)"
   ]
  },
  {
   "cell_type": "code",
   "execution_count": 28,
   "id": "95f32ba1",
   "metadata": {},
   "outputs": [
    {
     "data": {
      "text/plain": [
       "16417    0.133333\n",
       "644     -0.166667\n",
       "13925   -0.166667\n",
       "1556    -0.088889\n",
       "28576    0.277778\n",
       "Name: polarity, dtype: float64"
      ]
     },
     "execution_count": 28,
     "metadata": {},
     "output_type": "execute_result"
    }
   ],
   "source": [
    "blackadam_df['polarity'].sample(5)"
   ]
  },
  {
   "cell_type": "code",
   "execution_count": 29,
   "id": "d89e6298",
   "metadata": {},
   "outputs": [],
   "source": [
    "#create a function to calculate the total and percentage of sentiments\n",
    "\n",
    "def sentiment_count(data, count):\n",
    "    total = data.loc[:,count].value_counts(dropna=False)\n",
    "    percentage = round(data.loc[:,count].value_counts(dropna=False,normalize=True)*100,2)\n",
    "    return pd.concat([total, percentage],axis=1,keys=[\"total\", \"Percentage\"])"
   ]
  },
  {
   "cell_type": "code",
   "execution_count": 30,
   "id": "bedecc09",
   "metadata": {},
   "outputs": [],
   "source": [
    "#save sentiment count to csv for visualization\n",
    "\n",
    "sentiment_count(blackadam_df, \"sentiment\").to_csv(\"new_sentiment_count.csv\")"
   ]
  },
  {
   "cell_type": "code",
   "execution_count": 32,
   "id": "1630b116",
   "metadata": {},
   "outputs": [],
   "source": [
    "# get unique values and count in sentiment column\n",
    "\n",
    "sentiment_df = blackadam_df['sentiment'].value_counts()\n"
   ]
  },
  {
   "cell_type": "markdown",
   "id": "395433aa",
   "metadata": {},
   "source": [
    "# Visualization"
   ]
  },
  {
   "cell_type": "code",
   "execution_count": 33,
   "id": "f561d97c",
   "metadata": {},
   "outputs": [],
   "source": [
    "#define a function to design the backgorund of word cloud object\n",
    "\n",
    "def word_color_func(word, font_size, position, orientation=\"horizontal\", random_state=None,**kwargs):\n",
    "    return \"hsl(34, 99%%, %d%%)\" % random.randint(50, 80)"
   ]
  },
  {
   "cell_type": "code",
   "execution_count": 34,
   "id": "50993204",
   "metadata": {},
   "outputs": [
    {
     "data": {
      "image/png": "[encoded data removed]",
      "text/plain": [
       "<Figure size 432x288 with 1 Axes>"
      ]
     },
     "metadata": {
      "needs_background": "light"
     },
     "output_type": "display_data"
    }
   ],
   "source": [
    "twitter_wc = WordCloud(background_color='#172522')\n",
    "\n",
    "# generate the word cloud\n",
    "twitter_wc.generate(tweets_list_string)\n",
    "\n",
    "# display the word cloud\n",
    "plt.figure()\n",
    "\n",
    "\n",
    "plt.imshow(twitter_wc.recolor(color_func = word_color_func, random_state=3),\n",
    "           interpolation=\"bilinear\")\n",
    "plt.axis(\"off\")\n",
    "plt.title(\"Word Cloud Representation of Tweets\");\n",
    "plt.show()\n",
    "\n",
    "# store to file\n",
    "#plt.savefig(\"blackadamedit.png\", format=\"png\")\n",
    "#plt.show()"
   ]
  },
  {
   "cell_type": "code",
   "execution_count": 42,
   "id": "7af5b8eb",
   "metadata": {},
   "outputs": [
    {
     "data": {
      "text/plain": [
       "Text(0.5, 1.0, 'Twitter Users Sentiments on Black Adam movie')"
      ]
     },
     "execution_count": 42,
     "metadata": {},
     "output_type": "execute_result"
    },
    {
     "data": {
      "image/png": "[encoded data removed]",
      "text/plain": [
       "<Figure size 1080x720 with 1 Axes>"
      ]
     },
     "metadata": {},
     "output_type": "display_data"
    }
   ],
   "source": [
    "#Plotting a pie chart to show distribution of Sentiments\n",
    "\n",
    "labels = \"Positive\", \"Neutral\", \"Negative\"\n",
    "explode = (0.05, 0, 0)                                              # only \"explode\" the first slice (i.e. 'positive')\n",
    "plt.figure(figsize=[15,10], facecolor='none')\n",
    "plt.pie(sentiment_df, labels=labels, colors=['#00FF00','#666666', '#FF0000'], \n",
    "        startangle=90, shadow=True, explode=explode, autopct='%1.1f%%');\n",
    "plt.title('Twitter Users Sentiments on Black Adam movie')"
   ]
  },
  {
   "cell_type": "code",
   "execution_count": 44,
   "id": "3b403e51",
   "metadata": {},
   "outputs": [
    {
     "data": {
      "image/png": "[encoded data removed]",
      "text/plain": [
       "<Figure size 1296x432 with 1 Axes>"
      ]
     },
     "metadata": {
      "needs_background": "light"
     },
     "output_type": "display_data"
    }
   ],
   "source": [
    "blackadam_df['date'] = pd.to_datetime(blackadam_df['date'])\n",
    "\n",
    "\n",
    "tweet_time_df = blackadam_df.groupby(pd.Grouper(key='date', freq='30Min', convention='start')).size()\n",
    "tweet_time_df.plot(figsize=(18,6))\n",
    "plt.ylabel(\"30 Minute Tweet Count\")\n",
    "plt.title(\"Black Adam tweets by 30 minutes.\")\n",
    "plt.grid(True)"
   ]
  },
  {
   "cell_type": "code",
   "execution_count": null,
   "id": "e8ff4d09",
   "metadata": {},
   "outputs": [],
   "source": []
  },
  {
   "cell_type": "code",
   "execution_count": null,
   "id": "77799b01",
   "metadata": {},
   "outputs": [],
   "source": []
  }
 ],
 "metadata": {
  "kernelspec": {
   "display_name": "Python 3 (ipykernel)",
   "language": "python",
   "name": "python3"
  },
  "language_info": {
   "codemirror_mode": {
    "name": "ipython",
    "version": 3
   },
   "file_extension": ".py",
   "mimetype": "text/x-python",
   "name": "python",
   "nbconvert_exporter": "python",
   "pygments_lexer": "ipython3",
   "version": "3.9.12"
  }
 },
 "nbformat": 4,
 "nbformat_minor": 5
}
